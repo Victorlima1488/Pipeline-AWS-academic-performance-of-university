{
 "cells": [
  {
   "cell_type": "code",
   "execution_count": 6,
   "metadata": {},
   "outputs": [
    {
     "data": {
      "text/plain": [
       "True"
      ]
     },
     "execution_count": 6,
     "metadata": {},
     "output_type": "execute_result"
    }
   ],
   "source": [
    "from dotenv import load_dotenv\n",
    "import os\n",
    "\n",
    "load_dotenv()"
   ]
  },
  {
   "cell_type": "code",
   "execution_count": 7,
   "metadata": {},
   "outputs": [
    {
     "name": "stderr",
     "output_type": "stream",
     "text": [
      "c:\\Users\\Victor Lima\\Documents\\Main Victor\\Portifólio\\Academic Performance of University Student\\.dev_env\\Lib\\site-packages\\tqdm\\auto.py:21: TqdmWarning: IProgress not found. Please update jupyter and ipywidgets. See https://ipywidgets.readthedocs.io/en/stable/user_install.html\n",
      "  from .autonotebook import tqdm as notebook_tqdm\n"
     ]
    },
    {
     "data": {
      "text/plain": [
       "'C:\\\\Users\\\\Victor Lima\\\\.cache\\\\kagglehub\\\\datasets\\\\krishnanshverma\\\\academic-performance-of-university-student-dataset\\\\versions\\\\3'"
      ]
     },
     "execution_count": 7,
     "metadata": {},
     "output_type": "execute_result"
    }
   ],
   "source": [
    "import kagglehub\n",
    "\n",
    "# Download latest version\n",
    "kagglehub.dataset_download(\"krishnanshverma/academic-performance-of-university-student-dataset\")"
   ]
  },
  {
   "cell_type": "code",
   "execution_count": 8,
   "metadata": {},
   "outputs": [],
   "source": [
    "import boto3\n",
    "aws_access_key_id = os.getenv(\"AWS_ACCESS_KEY_ID\")\n",
    "aws_secret_access_key = os.getenv(\"AWS_SECRET_ACCESS_KEY\")\n",
    "region_name = os.getenv(\"REGION_MAMES\")\n",
    "\n",
    "boto3.setup_default_session(\n",
    "    aws_access_key_id = aws_access_key_id,\n",
    "    aws_secret_access_key = aws_secret_access_key,\n",
    "    region_name = region_name,\n",
    ")\n",
    "\n",
    "s3 = boto3.client(\"s3\")"
   ]
  },
  {
   "cell_type": "code",
   "execution_count": 4,
   "metadata": {},
   "outputs": [],
   "source": [
    "import pandas as pd\n",
    "\n",
    "df = pd.read_csv(\"../Data/academic_performance_dataset_V2.csv\")\n",
    "\n",
    "df.to_parquet(\"../Data/academic_performance_dataset_V2.parquet\", engine=\"pyarrow\")"
   ]
  },
  {
   "cell_type": "code",
   "execution_count": 10,
   "metadata": {},
   "outputs": [
    {
     "data": {
      "text/plain": [
       "{'ResponseMetadata': {'RequestId': 'P5YK42DXWF02QPWE',\n",
       "  'HostId': 'brlWullwuwOXVAQd4FENBStWGaTIfG/RIrxTjh+7TdJdXrmb6c+kHgzI/mAPin1G6G8wioQo5dw=',\n",
       "  'HTTPStatusCode': 200,\n",
       "  'HTTPHeaders': {'x-amz-id-2': 'brlWullwuwOXVAQd4FENBStWGaTIfG/RIrxTjh+7TdJdXrmb6c+kHgzI/mAPin1G6G8wioQo5dw=',\n",
       "   'x-amz-request-id': 'P5YK42DXWF02QPWE',\n",
       "   'date': 'Tue, 18 Feb 2025 01:07:28 GMT',\n",
       "   'x-amz-server-side-encryption': 'AES256',\n",
       "   'etag': '\"6b963377ad0ad1bf2a6207bb4692436d\"',\n",
       "   'x-amz-checksum-crc32': 'ZYJ7Kw==',\n",
       "   'x-amz-checksum-type': 'FULL_OBJECT',\n",
       "   'content-length': '0',\n",
       "   'server': 'AmazonS3'},\n",
       "  'RetryAttempts': 0},\n",
       " 'ETag': '\"6b963377ad0ad1bf2a6207bb4692436d\"',\n",
       " 'ChecksumCRC32': 'ZYJ7Kw==',\n",
       " 'ChecksumType': 'FULL_OBJECT',\n",
       " 'ServerSideEncryption': 'AES256'}"
      ]
     },
     "execution_count": 10,
     "metadata": {},
     "output_type": "execute_result"
    }
   ],
   "source": [
    "s3.put_object(\n",
    "    Bucket=os.getenv(\"BUCKET_MAME\"),\n",
    "    Key=\"bronze/academic_performance_dataset_V2.parquet\",\n",
    "    Body=open(\"../Data/academic_performance_dataset_V2.parquet\", \"rb\"),\n",
    ")"
   ]
  },
  {
   "cell_type": "code",
   "execution_count": 11,
   "metadata": {},
   "outputs": [],
   "source": [
    "response = s3.list_objects(Bucket=os.getenv(\"BUCKET_MAME\"))"
   ]
  },
  {
   "cell_type": "code",
   "execution_count": 16,
   "metadata": {},
   "outputs": [
    {
     "data": {
      "text/plain": [
       "{'ResponseMetadata': {'RequestId': 'VJ2V7Y4DTNQBFCRV',\n",
       "  'HostId': 'lDTbZsOBArPsi6jG6OSXsiJPYnZZwCpXCi4AUlQQnerDK20xGBrAoqYzCE/PlsJ7FGCw/VLam6c=',\n",
       "  'HTTPStatusCode': 200,\n",
       "  'HTTPHeaders': {'x-amz-id-2': 'lDTbZsOBArPsi6jG6OSXsiJPYnZZwCpXCi4AUlQQnerDK20xGBrAoqYzCE/PlsJ7FGCw/VLam6c=',\n",
       "   'x-amz-request-id': 'VJ2V7Y4DTNQBFCRV',\n",
       "   'date': 'Tue, 18 Feb 2025 01:09:11 GMT',\n",
       "   'x-amz-bucket-region': 'us-east-2',\n",
       "   'content-type': 'application/xml',\n",
       "   'transfer-encoding': 'chunked',\n",
       "   'server': 'AmazonS3'},\n",
       "  'RetryAttempts': 0},\n",
       " 'IsTruncated': False,\n",
       " 'Marker': '',\n",
       " 'Contents': [{'Key': 'bronze',\n",
       "   'LastModified': datetime.datetime(2025, 2, 17, 18, 11, 5, tzinfo=tzutc()),\n",
       "   'ETag': '\"728f84fbfd3e7bc0f56ee77f313ba492\"',\n",
       "   'ChecksumAlgorithm': ['CRC32'],\n",
       "   'ChecksumType': 'FULL_OBJECT',\n",
       "   'Size': 15,\n",
       "   'StorageClass': 'STANDARD',\n",
       "   'Owner': {'ID': 'd2fb1c96d322e17ddfa89e5ffa35b2b23016b39620d49d56087b40bb298fd41b'}},\n",
       "  {'Key': 'bronze/',\n",
       "   'LastModified': datetime.datetime(2025, 2, 17, 16, 46, 17, tzinfo=tzutc()),\n",
       "   'ETag': '\"d41d8cd98f00b204e9800998ecf8427e\"',\n",
       "   'Size': 0,\n",
       "   'StorageClass': 'STANDARD',\n",
       "   'Owner': {'ID': 'd2fb1c96d322e17ddfa89e5ffa35b2b23016b39620d49d56087b40bb298fd41b'}},\n",
       "  {'Key': 'bronze/Test.txt',\n",
       "   'LastModified': datetime.datetime(2025, 2, 17, 18, 13, 4, tzinfo=tzutc()),\n",
       "   'ETag': '\"728f84fbfd3e7bc0f56ee77f313ba492\"',\n",
       "   'ChecksumAlgorithm': ['CRC32'],\n",
       "   'ChecksumType': 'FULL_OBJECT',\n",
       "   'Size': 15,\n",
       "   'StorageClass': 'STANDARD',\n",
       "   'Owner': {'ID': 'd2fb1c96d322e17ddfa89e5ffa35b2b23016b39620d49d56087b40bb298fd41b'}},\n",
       "  {'Key': 'bronze/academic_performance_dataset_V2.parquet',\n",
       "   'LastModified': datetime.datetime(2025, 2, 18, 1, 7, 28, tzinfo=tzutc()),\n",
       "   'ETag': '\"6b963377ad0ad1bf2a6207bb4692436d\"',\n",
       "   'ChecksumAlgorithm': ['CRC32'],\n",
       "   'ChecksumType': 'FULL_OBJECT',\n",
       "   'Size': 53251,\n",
       "   'StorageClass': 'STANDARD',\n",
       "   'Owner': {'ID': 'd2fb1c96d322e17ddfa89e5ffa35b2b23016b39620d49d56087b40bb298fd41b'}},\n",
       "  {'Key': 'silver/',\n",
       "   'LastModified': datetime.datetime(2025, 2, 17, 16, 46, 31, tzinfo=tzutc()),\n",
       "   'ETag': '\"d41d8cd98f00b204e9800998ecf8427e\"',\n",
       "   'Size': 0,\n",
       "   'StorageClass': 'STANDARD',\n",
       "   'Owner': {'ID': 'd2fb1c96d322e17ddfa89e5ffa35b2b23016b39620d49d56087b40bb298fd41b'}}],\n",
       " 'Name': 'datalakeaws-academic-performance-of-university',\n",
       " 'Prefix': '',\n",
       " 'MaxKeys': 1000,\n",
       " 'EncodingType': 'url'}"
      ]
     },
     "execution_count": 16,
     "metadata": {},
     "output_type": "execute_result"
    }
   ],
   "source": [
    "response"
   ]
  },
  {
   "cell_type": "code",
   "execution_count": 18,
   "metadata": {},
   "outputs": [
    {
     "name": "stdout",
     "output_type": "stream",
     "text": [
      "['bronze', 'bronze/', 'bronze/Test.txt', 'bronze/academic_performance_dataset_V2.parquet', 'silver/']\n"
     ]
    }
   ],
   "source": [
    "keys = [obj[\"Key\"] for obj in response[\"Contents\"]]\n",
    "print(keys)"
   ]
  }
 ],
 "metadata": {
  "kernelspec": {
   "display_name": ".dev_env",
   "language": "python",
   "name": "python3"
  },
  "language_info": {
   "codemirror_mode": {
    "name": "ipython",
    "version": 3
   },
   "file_extension": ".py",
   "mimetype": "text/x-python",
   "name": "python",
   "nbconvert_exporter": "python",
   "pygments_lexer": "ipython3",
   "version": "3.12.3"
  }
 },
 "nbformat": 4,
 "nbformat_minor": 2
}
